{
 "cells": [
  {
   "cell_type": "markdown",
   "metadata": {},
   "source": [
    "# Intrduction to NumPy\n",
    "\n",
    "\n",
    "#### 1. Import NumPy under the name np."
   ]
  },
  {
   "cell_type": "code",
   "execution_count": 1,
   "metadata": {},
   "outputs": [],
   "source": [
    "# your code here\n",
    "import numpy as np\n",
    "import random"
   ]
  },
  {
   "cell_type": "markdown",
   "metadata": {},
   "source": [
    "#### 2. Print your NumPy version."
   ]
  },
  {
   "cell_type": "code",
   "execution_count": 2,
   "metadata": {},
   "outputs": [
    {
     "name": "stdout",
     "output_type": "stream",
     "text": [
      "1.23.4\n"
     ]
    }
   ],
   "source": [
    "# your code here\n",
    "print(np.__version__)"
   ]
  },
  {
   "cell_type": "markdown",
   "metadata": {},
   "source": [
    "#### 3. Generate a 2x3x5 3-dimensional array with random values. Assign the array to variable *a*.\n",
    "**Challenge**: there are at least three easy ways that use numpy to generate random arrays. How many ways can you find?"
   ]
  },
  {
   "cell_type": "code",
   "execution_count": 3,
   "metadata": {},
   "outputs": [
    {
     "name": "stdout",
     "output_type": "stream",
     "text": [
      "[[[0.9887048  0.53742518 0.83655678 0.19907619 0.15523707]\n",
      "  [0.12753519 0.47569139 0.13527972 0.61830179 0.56845485]\n",
      "  [0.40975379 0.9094301  0.60469566 0.9455529  0.39183048]]\n",
      "\n",
      " [[0.07987252 0.71678568 0.83454414 0.78849677 0.80428263]\n",
      "  [0.66046126 0.6062178  0.90001667 0.42716916 0.07978148]\n",
      "  [0.44147145 0.10754305 0.24419432 0.25352942 0.11419396]]]\n",
      "(2, 3, 5)\n"
     ]
    }
   ],
   "source": [
    "# Method 1\n",
    "a=np.random.rand(2,3,5)\n",
    "print(a)\n",
    "print(a.shape)"
   ]
  },
  {
   "cell_type": "code",
   "execution_count": 4,
   "metadata": {},
   "outputs": [
    {
     "name": "stdout",
     "output_type": "stream",
     "text": [
      "[[[57 35 35 59 34]\n",
      "  [86  2 30 89 87]\n",
      "  [47 59 43 64 76]]\n",
      "\n",
      " [[23 49 55 95  1]\n",
      "  [55  5 51 54 17]\n",
      "  [69 67 61 99 52]]]\n",
      "(2, 3, 5)\n"
     ]
    }
   ],
   "source": [
    "# Method 2\n",
    "\n",
    "a = np.random.randint(1,100, size=(2,3,5))\n",
    "print(a)\n",
    "print(a.shape)"
   ]
  },
  {
   "cell_type": "code",
   "execution_count": 5,
   "metadata": {},
   "outputs": [
    {
     "name": "stdout",
     "output_type": "stream",
     "text": [
      "[[[0.0534751  0.81145508 0.71574066 0.97980036 0.9325838 ]\n",
      "  [0.53042078 0.42255044 0.65666726 0.80071986 0.01302293]\n",
      "  [0.15747579 0.79173616 0.23893597 0.98348672 0.87296998]]\n",
      "\n",
      " [[0.46525734 0.4304526  0.57471392 0.55708555 0.55746592]\n",
      "  [0.82233188 0.11725599 0.11587711 0.24924787 0.02668814]\n",
      "  [0.74637728 0.84056693 0.79281938 0.74017858 0.5473769 ]]]\n",
      "(2, 3, 5)\n"
     ]
    }
   ],
   "source": [
    "# Method 3\n",
    "a=np.random.power(1, size=(2,3,5))\n",
    "print(a)\n",
    "print(a.shape)"
   ]
  },
  {
   "cell_type": "markdown",
   "metadata": {},
   "source": [
    "#### 4. Print *a*.\n"
   ]
  },
  {
   "cell_type": "code",
   "execution_count": 6,
   "metadata": {},
   "outputs": [
    {
     "name": "stdout",
     "output_type": "stream",
     "text": [
      "[[[0.0534751  0.81145508 0.71574066 0.97980036 0.9325838 ]\n",
      "  [0.53042078 0.42255044 0.65666726 0.80071986 0.01302293]\n",
      "  [0.15747579 0.79173616 0.23893597 0.98348672 0.87296998]]\n",
      "\n",
      " [[0.46525734 0.4304526  0.57471392 0.55708555 0.55746592]\n",
      "  [0.82233188 0.11725599 0.11587711 0.24924787 0.02668814]\n",
      "  [0.74637728 0.84056693 0.79281938 0.74017858 0.5473769 ]]]\n"
     ]
    }
   ],
   "source": [
    "# your code here\n",
    "print(a)"
   ]
  },
  {
   "cell_type": "markdown",
   "metadata": {},
   "source": [
    "#### 5. Create a 5x2x3 3-dimensional array with all values equaling 1. Assign the array to variable *b*."
   ]
  },
  {
   "cell_type": "code",
   "execution_count": 7,
   "metadata": {},
   "outputs": [],
   "source": [
    "# your code here\n",
    "b = np.random.randint(1,2, size=(5,2,3))\n"
   ]
  },
  {
   "cell_type": "markdown",
   "metadata": {},
   "source": [
    "#### 6. Print *b*.\n"
   ]
  },
  {
   "cell_type": "code",
   "execution_count": 8,
   "metadata": {},
   "outputs": [
    {
     "name": "stdout",
     "output_type": "stream",
     "text": [
      "[[[1 1 1]\n",
      "  [1 1 1]]\n",
      "\n",
      " [[1 1 1]\n",
      "  [1 1 1]]\n",
      "\n",
      " [[1 1 1]\n",
      "  [1 1 1]]\n",
      "\n",
      " [[1 1 1]\n",
      "  [1 1 1]]\n",
      "\n",
      " [[1 1 1]\n",
      "  [1 1 1]]]\n"
     ]
    }
   ],
   "source": [
    "# your code here\n",
    "print(b)"
   ]
  },
  {
   "cell_type": "markdown",
   "metadata": {},
   "source": [
    "#### 7. Do *a* and *b* have the same size? How do you prove that in Python code?"
   ]
  },
  {
   "cell_type": "code",
   "execution_count": 9,
   "metadata": {},
   "outputs": [
    {
     "name": "stdout",
     "output_type": "stream",
     "text": [
      "(2, 3, 5)\n",
      "(5, 2, 3)\n"
     ]
    }
   ],
   "source": [
    "# your code here\n",
    "\n",
    "print(a.shape)\n",
    "print(b.shape)"
   ]
  },
  {
   "cell_type": "markdown",
   "metadata": {},
   "source": [
    "#### 8. Are you able to add *a* and *b*? Why or why not?\n"
   ]
  },
  {
   "cell_type": "code",
   "execution_count": 10,
   "metadata": {},
   "outputs": [],
   "source": [
    "# your answer here\n",
    "#c=a+b\n",
    "#can't due to different sizes"
   ]
  },
  {
   "cell_type": "markdown",
   "metadata": {},
   "source": [
    "#### 9. Transpose *b* so that it has the same structure of *a* (i.e. become a 2x3x5 array). Assign the transposed array to variable *c*."
   ]
  },
  {
   "cell_type": "code",
   "execution_count": 11,
   "metadata": {},
   "outputs": [
    {
     "name": "stdout",
     "output_type": "stream",
     "text": [
      "(3, 2, 5)\n",
      "(3, 2, 5)\n",
      "(2, 3, 5)\n",
      "[[[1 1 1 1 1]\n",
      "  [1 1 1 1 1]\n",
      "  [1 1 1 1 1]]\n",
      "\n",
      " [[1 1 1 1 1]\n",
      "  [1 1 1 1 1]\n",
      "  [1 1 1 1 1]]]\n"
     ]
    }
   ],
   "source": [
    "# your code here\n",
    "c_1=np.transpose(b)\n",
    "print(c_1.shape)\n",
    "#print(c)\n",
    "\n",
    "c_2=np.matrix.transpose(b)\n",
    "print(c_2.shape)\n",
    "\n",
    "c=np.reshape(b, (2,3,5)) #o fred fez com o reshape\n",
    "print(c.shape)\n",
    "print(c)\n",
    "\n",
    "#don't get it???"
   ]
  },
  {
   "cell_type": "markdown",
   "metadata": {},
   "source": [
    "#### 10. Try to add *a* and *c*. Now it should work. Assign the sum to variable *d*. But why does it work now?"
   ]
  },
  {
   "cell_type": "code",
   "execution_count": 12,
   "metadata": {},
   "outputs": [],
   "source": [
    "# your code/answer here\n",
    "d=a+c"
   ]
  },
  {
   "cell_type": "markdown",
   "metadata": {},
   "source": [
    "#### 11. Print *a* and *d*. Notice the difference and relation of the two array in terms of the values? Explain."
   ]
  },
  {
   "cell_type": "code",
   "execution_count": 13,
   "metadata": {},
   "outputs": [
    {
     "name": "stdout",
     "output_type": "stream",
     "text": [
      "(2, 3, 5) \n",
      " [[[0.0534751  0.81145508 0.71574066 0.97980036 0.9325838 ]\n",
      "  [0.53042078 0.42255044 0.65666726 0.80071986 0.01302293]\n",
      "  [0.15747579 0.79173616 0.23893597 0.98348672 0.87296998]]\n",
      "\n",
      " [[0.46525734 0.4304526  0.57471392 0.55708555 0.55746592]\n",
      "  [0.82233188 0.11725599 0.11587711 0.24924787 0.02668814]\n",
      "  [0.74637728 0.84056693 0.79281938 0.74017858 0.5473769 ]]] \n",
      "\n",
      "(2, 3, 5) \n",
      " [[[1.0534751  1.81145508 1.71574066 1.97980036 1.9325838 ]\n",
      "  [1.53042078 1.42255044 1.65666726 1.80071986 1.01302293]\n",
      "  [1.15747579 1.79173616 1.23893597 1.98348672 1.87296998]]\n",
      "\n",
      " [[1.46525734 1.4304526  1.57471392 1.55708555 1.55746592]\n",
      "  [1.82233188 1.11725599 1.11587711 1.24924787 1.02668814]\n",
      "  [1.74637728 1.84056693 1.79281938 1.74017858 1.5473769 ]]]\n"
     ]
    }
   ],
   "source": [
    "# your code/answer here\n",
    "print(a.shape, \"\\n\", a, \"\\n\")\n",
    "print(d.shape, \"\\n\", d)\n",
    "\n",
    "#array d is +1"
   ]
  },
  {
   "cell_type": "markdown",
   "metadata": {},
   "source": [
    "#### 12. Multiply *a* and *c*. Assign the result to *e*."
   ]
  },
  {
   "cell_type": "code",
   "execution_count": 14,
   "metadata": {},
   "outputs": [
    {
     "name": "stdout",
     "output_type": "stream",
     "text": [
      "[[[0.0534751  0.81145508 0.71574066 0.97980036 0.9325838 ]\n",
      "  [0.53042078 0.42255044 0.65666726 0.80071986 0.01302293]\n",
      "  [0.15747579 0.79173616 0.23893597 0.98348672 0.87296998]]\n",
      "\n",
      " [[0.46525734 0.4304526  0.57471392 0.55708555 0.55746592]\n",
      "  [0.82233188 0.11725599 0.11587711 0.24924787 0.02668814]\n",
      "  [0.74637728 0.84056693 0.79281938 0.74017858 0.5473769 ]]]\n"
     ]
    }
   ],
   "source": [
    "# your code here\n",
    "#e=np.matmul(a,c)\n",
    "#e=np.dot(a,c) \n",
    "e=a*c #How if the two matrix have the same size? \n",
    "print(e)"
   ]
  },
  {
   "cell_type": "markdown",
   "metadata": {},
   "source": [
    "#### 13. Does *e* equal to *a*? Why or why not?\n"
   ]
  },
  {
   "cell_type": "code",
   "execution_count": 15,
   "metadata": {},
   "outputs": [
    {
     "name": "stdout",
     "output_type": "stream",
     "text": [
      "[[[0.0534751  0.81145508 0.71574066 0.97980036 0.9325838 ]\n",
      "  [0.53042078 0.42255044 0.65666726 0.80071986 0.01302293]\n",
      "  [0.15747579 0.79173616 0.23893597 0.98348672 0.87296998]]\n",
      "\n",
      " [[0.46525734 0.4304526  0.57471392 0.55708555 0.55746592]\n",
      "  [0.82233188 0.11725599 0.11587711 0.24924787 0.02668814]\n",
      "  [0.74637728 0.84056693 0.79281938 0.74017858 0.5473769 ]]]\n",
      "[[[0.0534751  0.81145508 0.71574066 0.97980036 0.9325838 ]\n",
      "  [0.53042078 0.42255044 0.65666726 0.80071986 0.01302293]\n",
      "  [0.15747579 0.79173616 0.23893597 0.98348672 0.87296998]]\n",
      "\n",
      " [[0.46525734 0.4304526  0.57471392 0.55708555 0.55746592]\n",
      "  [0.82233188 0.11725599 0.11587711 0.24924787 0.02668814]\n",
      "  [0.74637728 0.84056693 0.79281938 0.74017858 0.5473769 ]]]\n"
     ]
    }
   ],
   "source": [
    "# your code/answer here\n",
    "print(a)\n",
    "print(e)\n",
    "\n",
    "#equal due to c beeing just one's "
   ]
  },
  {
   "cell_type": "markdown",
   "metadata": {},
   "source": [
    "#### 14. Identify the max, min, and mean values in *d*. Assign those values to variables *d_max*, *d_min* and *d_mean*."
   ]
  },
  {
   "cell_type": "code",
   "execution_count": 16,
   "metadata": {},
   "outputs": [
    {
     "name": "stdout",
     "output_type": "stream",
     "text": [
      "1.983486715718361 1.0130229326613096 1.5514912089082444\n"
     ]
    }
   ],
   "source": [
    "# your code here\n",
    "d_max=d.max()\n",
    "d_min=d.min()\n",
    "d_mean=d.mean()\n",
    "print(d_max, d_min, d_mean)"
   ]
  },
  {
   "cell_type": "markdown",
   "metadata": {},
   "source": [
    "#### 15. Now we want to label the values in *d*. First create an empty array *f* with the same shape (i.e. 2x3x5) as *d* using `np.empty`.\n"
   ]
  },
  {
   "cell_type": "code",
   "execution_count": 17,
   "metadata": {},
   "outputs": [
    {
     "data": {
      "text/plain": [
       "array([[[0.0534751 , 0.81145508, 0.71574066, 0.97980036, 0.9325838 ],\n",
       "        [0.53042078, 0.42255044, 0.65666726, 0.80071986, 0.01302293],\n",
       "        [0.15747579, 0.79173616, 0.23893597, 0.98348672, 0.87296998]],\n",
       "\n",
       "       [[0.46525734, 0.4304526 , 0.57471392, 0.55708555, 0.55746592],\n",
       "        [0.82233188, 0.11725599, 0.11587711, 0.24924787, 0.02668814],\n",
       "        [0.74637728, 0.84056693, 0.79281938, 0.74017858, 0.5473769 ]]])"
      ]
     },
     "execution_count": 17,
     "metadata": {},
     "output_type": "execute_result"
    }
   ],
   "source": [
    "# your code here\n",
    "f=np.empty([2,3,5])\n",
    "f"
   ]
  },
  {
   "cell_type": "markdown",
   "metadata": {},
   "source": [
    "#### 16. Populate the values in *f*. \n",
    "\n",
    "For each value in *d*, if it's larger than *d_min* but smaller than *d_mean*, assign 25 to the corresponding value in *f*. If a value in *d* is larger than *d_mean* but smaller than *d_max*, assign 75 to the corresponding value in *f*. If a value equals to *d_mean*, assign 50 to the corresponding value in *f*. Assign 0 to the corresponding value(s) in *f* for *d_min* in *d*. Assign 100 to the corresponding value(s) in *f* for *d_max* in *d*. In the end, f should have only the following values: 0, 25, 50, 75, and 100.\n",
    "\n",
    "**Note**: you don't have to use Numpy in this question."
   ]
  },
  {
   "cell_type": "code",
   "execution_count": 18,
   "metadata": {},
   "outputs": [
    {
     "name": "stdout",
     "output_type": "stream",
     "text": [
      "0\n",
      "[[1.0534751  1.81145508 1.71574066 1.97980036 1.9325838 ]\n",
      " [1.53042078 1.42255044 1.65666726 1.80071986 1.01302293]\n",
      " [1.15747579 1.79173616 1.23893597 1.98348672 1.87296998]]\n",
      "1\n",
      "[[1.46525734 1.4304526  1.57471392 1.55708555 1.55746592]\n",
      " [1.82233188 1.11725599 1.11587711 1.24924787 1.02668814]\n",
      " [1.74637728 1.84056693 1.79281938 1.74017858 1.5473769 ]]\n"
     ]
    }
   ],
   "source": [
    "x=-1\n",
    "for matrix in d:\n",
    "    x=x+1\n",
    "    print(x)\n",
    "    print(d[x])\n",
    "    "
   ]
  },
  {
   "cell_type": "code",
   "execution_count": 19,
   "metadata": {},
   "outputs": [],
   "source": [
    "# your code here\n",
    "x=-1\n",
    "y=-1\n",
    "z=-1\n",
    "\n",
    "for matrix in d:\n",
    "    x=x+1\n",
    "    y=-1\n",
    "    for m in matrix:\n",
    "        y=y+1\n",
    "        z=-1\n",
    "        for l in m:\n",
    "            z=z+1\n",
    "            if l>d_min and l<d_mean:\n",
    "                f[x,y,z]=25\n",
    "            elif l>d_mean and l<d_max:\n",
    "                f[x,y,z]=75\n",
    "            elif l==d_mean:\n",
    "                f[x,y,z]=50\n",
    "            elif l==d_min:\n",
    "                f[x,y,z]=0\n",
    "            elif l==d_max:\n",
    "                f[x,y,z]=100"
   ]
  },
  {
   "cell_type": "markdown",
   "metadata": {},
   "source": [
    "#### 17. Print *d* and *f*. Do you have your expected *f*?\n",
    "For instance, if your *d* is:\n",
    "```python\n",
    "[[[1.85836099, 1.67064465, 1.62576044, 1.40243961, 1.88454931],\n",
    "[1.75354326, 1.69403643, 1.36729252, 1.61415071, 1.12104981],\n",
    "[1.72201435, 1.1862918 , 1.87078449, 1.7726778 , 1.88180042]],\n",
    "[[1.44747908, 1.31673383, 1.02000951, 1.52218947, 1.97066381],\n",
    "[1.79129243, 1.74983003, 1.96028037, 1.85166831, 1.65450881],\n",
    "[1.18068344, 1.9587381 , 1.00656599, 1.93402165, 1.73514584]]]\n",
    "```\n",
    "Your *f* should be:\n",
    "```python\n",
    "[[[ 75.,  75.,  75.,  25.,  75.],\n",
    "[ 75.,  75.,  25.,  25.,  25.],\n",
    "[ 75.,  25.,  75.,  75.,  75.]],\n",
    "[[ 25.,  25.,  25.,  25., 100.],\n",
    "[ 75.,  75.,  75.,  75.,  75.],\n",
    "[ 25.,  75.,   0.,  75.,  75.]]]\n",
    "```"
   ]
  },
  {
   "cell_type": "code",
   "execution_count": 20,
   "metadata": {},
   "outputs": [
    {
     "name": "stdout",
     "output_type": "stream",
     "text": [
      "[[[1.0534751  1.81145508 1.71574066 1.97980036 1.9325838 ]\n",
      "  [1.53042078 1.42255044 1.65666726 1.80071986 1.01302293]\n",
      "  [1.15747579 1.79173616 1.23893597 1.98348672 1.87296998]]\n",
      "\n",
      " [[1.46525734 1.4304526  1.57471392 1.55708555 1.55746592]\n",
      "  [1.82233188 1.11725599 1.11587711 1.24924787 1.02668814]\n",
      "  [1.74637728 1.84056693 1.79281938 1.74017858 1.5473769 ]]]\n",
      "\n",
      " d_min: 1.0130229326613096  d_mean: 1.5514912089082444  d_max: 1.983486715718361 \n",
      "\n",
      "[[[ 25.  75.  75.  75.  75.]\n",
      "  [ 25.  25.  75.  75.   0.]\n",
      "  [ 25.  75.  25. 100.  75.]]\n",
      "\n",
      " [[ 25.  25.  75.  75.  75.]\n",
      "  [ 75.  25.  25.  25.  25.]\n",
      "  [ 75.  75.  75.  75.  25.]]]\n"
     ]
    }
   ],
   "source": [
    "# your code here\n",
    "print(d)\n",
    "print(\"\\n\", \"d_min:\",d_min,\" d_mean:\",d_mean,\" d_max:\",d_max, \"\\n\")\n",
    "print(f)"
   ]
  },
  {
   "cell_type": "markdown",
   "metadata": {},
   "source": [
    "#### 18. Bonus question: instead of using numbers (i.e. 0, 25, 50, 75, and 100), use string values  (\"A\", \"B\", \"C\", \"D\", and \"E\") to label the array elements. For the example above, the expected result is:\n",
    "\n",
    "```python\n",
    "[[[ 'D',  'D',  'D',  'B',  'D'],\n",
    "[ 'D',  'D',  'B',  'B',  'B'],\n",
    "[ 'D',  'B',  'D',  'D',  'D']],\n",
    "[[ 'B',  'B',  'B',  'B',  'E'],\n",
    "[ 'D',  'D',  'D',  'D',  'D'],\n",
    "[ 'B',  'D',   'A',  'D', 'D']]]\n",
    "```\n",
    "**Note**: you don't have to use Numpy in this question."
   ]
  },
  {
   "cell_type": "code",
   "execution_count": 21,
   "metadata": {},
   "outputs": [
    {
     "ename": "ValueError",
     "evalue": "could not convert string to float: 'B'",
     "output_type": "error",
     "traceback": [
      "\u001b[1;31m---------------------------------------------------------------------------\u001b[0m",
      "\u001b[1;31mValueError\u001b[0m                                Traceback (most recent call last)",
      "Cell \u001b[1;32mIn [21], line 16\u001b[0m\n\u001b[0;32m     14\u001b[0m z\u001b[38;5;241m=\u001b[39mz\u001b[38;5;241m+\u001b[39m\u001b[38;5;241m1\u001b[39m\n\u001b[0;32m     15\u001b[0m \u001b[38;5;28;01mif\u001b[39;00m l\u001b[38;5;241m>\u001b[39md_min \u001b[38;5;129;01mand\u001b[39;00m l\u001b[38;5;241m<\u001b[39md_mean:\n\u001b[1;32m---> 16\u001b[0m     f_bonus[x,y,z]\u001b[38;5;241m=\u001b[39m\u001b[38;5;124m\"\u001b[39m\u001b[38;5;124mB\u001b[39m\u001b[38;5;124m\"\u001b[39m\n\u001b[0;32m     17\u001b[0m \u001b[38;5;28;01melif\u001b[39;00m l\u001b[38;5;241m>\u001b[39md_mean \u001b[38;5;129;01mand\u001b[39;00m l\u001b[38;5;241m<\u001b[39md_max:\n\u001b[0;32m     18\u001b[0m     f_bonus[x,y,z]\u001b[38;5;241m=\u001b[39m\u001b[38;5;124m\"\u001b[39m\u001b[38;5;124mD\u001b[39m\u001b[38;5;124m\"\u001b[39m\n",
      "\u001b[1;31mValueError\u001b[0m: could not convert string to float: 'B'"
     ]
    }
   ],
   "source": [
    "# your code here\n",
    "x=-1\n",
    "y=-1\n",
    "z=-1\n",
    "f_bonus=np.zeros([2,3,5])\n",
    "\n",
    "for matrix in d:\n",
    "    x=x+1\n",
    "    y=-1\n",
    "    for m in matrix:\n",
    "        y=y+1\n",
    "        z=-1\n",
    "        for l in m:\n",
    "            z=z+1\n",
    "            if l>d_min and l<d_mean:\n",
    "                f_bonus[x,y,z]=\"B\"\n",
    "            elif l>d_mean and l<d_max:\n",
    "                f_bonus[x,y,z]=\"D\"\n",
    "            elif l==d_mean:\n",
    "                f_bonus[x,y,z]=\"C\"\n",
    "            elif l==d_min:\n",
    "                f_bonus[x,y,z]=\"A\"\n",
    "            elif l==d_max:\n",
    "                f_bonus[x,y,z]=\"E\"\n",
    "                \n",
    "prinf(f_bonus)"
   ]
  },
  {
   "cell_type": "code",
   "execution_count": 22,
   "metadata": {},
   "outputs": [
    {
     "ename": "ValueError",
     "evalue": "could not convert string to float: 'B'",
     "output_type": "error",
     "traceback": [
      "\u001b[1;31m---------------------------------------------------------------------------\u001b[0m",
      "\u001b[1;31mValueError\u001b[0m                                Traceback (most recent call last)",
      "Cell \u001b[1;32mIn [22], line 16\u001b[0m\n\u001b[0;32m     14\u001b[0m z\u001b[38;5;241m=\u001b[39mz\u001b[38;5;241m+\u001b[39m\u001b[38;5;241m1\u001b[39m\n\u001b[0;32m     15\u001b[0m \u001b[38;5;28;01mif\u001b[39;00m l\u001b[38;5;241m>\u001b[39md_min \u001b[38;5;129;01mand\u001b[39;00m l\u001b[38;5;241m<\u001b[39md_mean:\n\u001b[1;32m---> 16\u001b[0m     f_bonus[x][y][z]\u001b[38;5;241m=\u001b[39m\u001b[38;5;124m\"\u001b[39m\u001b[38;5;124mB\u001b[39m\u001b[38;5;124m\"\u001b[39m\n\u001b[0;32m     17\u001b[0m \u001b[38;5;28;01melif\u001b[39;00m l\u001b[38;5;241m>\u001b[39md_mean \u001b[38;5;129;01mand\u001b[39;00m l\u001b[38;5;241m<\u001b[39md_max:\n\u001b[0;32m     18\u001b[0m     f_bonus[x][y][z]\u001b[38;5;241m=\u001b[39m\u001b[38;5;124m\"\u001b[39m\u001b[38;5;124mD\u001b[39m\u001b[38;5;124m\"\u001b[39m\n",
      "\u001b[1;31mValueError\u001b[0m: could not convert string to float: 'B'"
     ]
    }
   ],
   "source": [
    "# your code here\n",
    "x=-1\n",
    "y=-1\n",
    "z=-1\n",
    "f_bonus=np.zeros([2,3,5])\n",
    "\n",
    "for matrix in d:\n",
    "    x=x+1\n",
    "    y=-1\n",
    "    for m in matrix:\n",
    "        y=y+1\n",
    "        z=-1\n",
    "        for l in m:\n",
    "            z=z+1\n",
    "            if l>d_min and l<d_mean:\n",
    "                f_bonus[x][y][z]=\"B\"\n",
    "            elif l>d_mean and l<d_max:\n",
    "                f_bonus[x][y][z]=\"D\"\n",
    "            elif l==d_mean:\n",
    "                f_bonus[x][y][z]=\"C\"\n",
    "            elif l==d_min:\n",
    "                f_bonus[x][y][z]=\"A\"\n",
    "            elif l==d_max:\n",
    "                f_bonus[x][y][z]=\"E\"\n",
    "                \n",
    "prinf(f_bonus)"
   ]
  },
  {
   "cell_type": "code",
   "execution_count": null,
   "metadata": {},
   "outputs": [],
   "source": []
  }
 ],
 "metadata": {
  "kernelspec": {
   "display_name": "Python 3 (ipykernel)",
   "language": "python",
   "name": "python3"
  },
  "language_info": {
   "codemirror_mode": {
    "name": "ipython",
    "version": 3
   },
   "file_extension": ".py",
   "mimetype": "text/x-python",
   "name": "python",
   "nbconvert_exporter": "python",
   "pygments_lexer": "ipython3",
   "version": "3.9.12"
  }
 },
 "nbformat": 4,
 "nbformat_minor": 2
}
