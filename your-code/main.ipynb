{
 "cells": [
  {
   "cell_type": "markdown",
   "metadata": {},
   "source": [
    "# Intrduction to NumPy\n",
    "\n",
    "\n",
    "#### 1. Import NumPy under the name np."
   ]
  },
  {
   "cell_type": "code",
   "execution_count": 1,
   "metadata": {},
   "outputs": [],
   "source": [
    "# your code here\n",
    "import numpy as np\n",
    "import random"
   ]
  },
  {
   "cell_type": "markdown",
   "metadata": {},
   "source": [
    "#### 2. Print your NumPy version."
   ]
  },
  {
   "cell_type": "code",
   "execution_count": 2,
   "metadata": {},
   "outputs": [
    {
     "name": "stdout",
     "output_type": "stream",
     "text": [
      "1.21.5\n"
     ]
    }
   ],
   "source": [
    "# your code here\n",
    "print(np.__version__)"
   ]
  },
  {
   "cell_type": "markdown",
   "metadata": {},
   "source": [
    "#### 3. Generate a 2x3x5 3-dimensional array with random values. Assign the array to variable *a*.\n",
    "**Challenge**: there are at least three easy ways that use numpy to generate random arrays. How many ways can you find?"
   ]
  },
  {
   "cell_type": "code",
   "execution_count": 3,
   "metadata": {},
   "outputs": [
    {
     "name": "stdout",
     "output_type": "stream",
     "text": [
      "[[[0.34242608 0.49559205 0.52279086 0.86305882 0.50279485]\n",
      "  [0.42662931 0.09246819 0.92149876 0.18132948 0.34626472]\n",
      "  [0.46023996 0.3050306  0.45495211 0.17149134 0.54259306]]\n",
      "\n",
      " [[0.042996   0.07486635 0.73711915 0.44898302 0.79519777]\n",
      "  [0.91714368 0.75629411 0.5950528  0.34027537 0.1402157 ]\n",
      "  [0.07261127 0.50474665 0.42782843 0.79573856 0.26160336]]]\n",
      "(2, 3, 5)\n"
     ]
    }
   ],
   "source": [
    "# Method 1\n",
    "a=np.random.rand(2,3,5)\n",
    "print(a)\n",
    "print(a.shape)"
   ]
  },
  {
   "cell_type": "code",
   "execution_count": 4,
   "metadata": {},
   "outputs": [
    {
     "name": "stdout",
     "output_type": "stream",
     "text": [
      "[[[43 61 20  5 85]\n",
      "  [87 43 11 35 42]\n",
      "  [91 83 44 47  1]]\n",
      "\n",
      " [[52 83 66 27 12]\n",
      "  [40 77 20 84 17]\n",
      "  [94 20 71 96  9]]]\n",
      "(2, 3, 5)\n"
     ]
    }
   ],
   "source": [
    "# Method 2\n",
    "\n",
    "a = np.random.randint(1,100, size=(2,3,5))\n",
    "print(a)\n",
    "print(a.shape)"
   ]
  },
  {
   "cell_type": "code",
   "execution_count": 5,
   "metadata": {},
   "outputs": [
    {
     "name": "stdout",
     "output_type": "stream",
     "text": [
      "[[[0.80678089 0.09220707 0.18819284 0.46779093 0.70287639]\n",
      "  [0.93967745 0.35702858 0.36223304 0.67969605 0.37456895]\n",
      "  [0.95679172 0.38430446 0.35434784 0.96744837 0.88117117]]\n",
      "\n",
      " [[0.90656561 0.80539828 0.93508508 0.71852918 0.16634225]\n",
      "  [0.96647788 0.87880759 0.72347082 0.83495002 0.80545848]\n",
      "  [0.77898709 0.5473424  0.06333658 0.93121675 0.79132045]]]\n",
      "(2, 3, 5)\n"
     ]
    }
   ],
   "source": [
    "# Method 3\n",
    "a=np.random.power(1, size=(2,3,5))\n",
    "print(a)\n",
    "print(a.shape)"
   ]
  },
  {
   "cell_type": "markdown",
   "metadata": {},
   "source": [
    "#### 4. Print *a*.\n"
   ]
  },
  {
   "cell_type": "code",
   "execution_count": 6,
   "metadata": {},
   "outputs": [
    {
     "name": "stdout",
     "output_type": "stream",
     "text": [
      "[[[0.80678089 0.09220707 0.18819284 0.46779093 0.70287639]\n",
      "  [0.93967745 0.35702858 0.36223304 0.67969605 0.37456895]\n",
      "  [0.95679172 0.38430446 0.35434784 0.96744837 0.88117117]]\n",
      "\n",
      " [[0.90656561 0.80539828 0.93508508 0.71852918 0.16634225]\n",
      "  [0.96647788 0.87880759 0.72347082 0.83495002 0.80545848]\n",
      "  [0.77898709 0.5473424  0.06333658 0.93121675 0.79132045]]]\n"
     ]
    }
   ],
   "source": [
    "# your code here\n",
    "print(a)"
   ]
  },
  {
   "cell_type": "markdown",
   "metadata": {},
   "source": [
    "#### 5. Create a 5x2x3 3-dimensional array with all values equaling 1. Assign the array to variable *b*."
   ]
  },
  {
   "cell_type": "code",
   "execution_count": 7,
   "metadata": {},
   "outputs": [],
   "source": [
    "# your code here\n",
    "b = np.random.randint(1,2, size=(5,2,3))\n"
   ]
  },
  {
   "cell_type": "markdown",
   "metadata": {},
   "source": [
    "#### 6. Print *b*.\n"
   ]
  },
  {
   "cell_type": "code",
   "execution_count": 8,
   "metadata": {},
   "outputs": [
    {
     "name": "stdout",
     "output_type": "stream",
     "text": [
      "[[[1 1 1]\n",
      "  [1 1 1]]\n",
      "\n",
      " [[1 1 1]\n",
      "  [1 1 1]]\n",
      "\n",
      " [[1 1 1]\n",
      "  [1 1 1]]\n",
      "\n",
      " [[1 1 1]\n",
      "  [1 1 1]]\n",
      "\n",
      " [[1 1 1]\n",
      "  [1 1 1]]]\n"
     ]
    }
   ],
   "source": [
    "# your code here\n",
    "print(b)"
   ]
  },
  {
   "cell_type": "markdown",
   "metadata": {},
   "source": [
    "#### 7. Do *a* and *b* have the same size? How do you prove that in Python code?"
   ]
  },
  {
   "cell_type": "code",
   "execution_count": 9,
   "metadata": {},
   "outputs": [
    {
     "name": "stdout",
     "output_type": "stream",
     "text": [
      "(2, 3, 5)\n",
      "(5, 2, 3)\n"
     ]
    }
   ],
   "source": [
    "# your code here\n",
    "\n",
    "print(a.shape)\n",
    "print(b.shape)"
   ]
  },
  {
   "cell_type": "markdown",
   "metadata": {},
   "source": [
    "#### 8. Are you able to add *a* and *b*? Why or why not?\n"
   ]
  },
  {
   "cell_type": "code",
   "execution_count": 10,
   "metadata": {},
   "outputs": [
    {
     "ename": "ValueError",
     "evalue": "operands could not be broadcast together with shapes (2,3,5) (5,2,3) ",
     "output_type": "error",
     "traceback": [
      "\u001b[1;31m---------------------------------------------------------------------------\u001b[0m",
      "\u001b[1;31mValueError\u001b[0m                                Traceback (most recent call last)",
      "Input \u001b[1;32mIn [10]\u001b[0m, in \u001b[0;36m<cell line: 2>\u001b[1;34m()\u001b[0m\n\u001b[0;32m      1\u001b[0m \u001b[38;5;66;03m# your answer here\u001b[39;00m\n\u001b[1;32m----> 2\u001b[0m c\u001b[38;5;241m=\u001b[39m\u001b[43ma\u001b[49m\u001b[38;5;241;43m+\u001b[39;49m\u001b[43mb\u001b[49m\n",
      "\u001b[1;31mValueError\u001b[0m: operands could not be broadcast together with shapes (2,3,5) (5,2,3) "
     ]
    }
   ],
   "source": [
    "# your answer here\n",
    "c=a+b\n",
    "#can't due to different sizes"
   ]
  },
  {
   "cell_type": "markdown",
   "metadata": {},
   "source": [
    "#### 9. Transpose *b* so that it has the same structure of *a* (i.e. become a 2x3x5 array). Assign the transposed array to variable *c*."
   ]
  },
  {
   "cell_type": "code",
   "execution_count": 17,
   "metadata": {},
   "outputs": [
    {
     "name": "stdout",
     "output_type": "stream",
     "text": [
      "(3, 2, 5)\n",
      "(3, 2, 5)\n",
      "(2, 3, 5)\n",
      "[[[1 1 1 1 1]\n",
      "  [1 1 1 1 1]\n",
      "  [1 1 1 1 1]]\n",
      "\n",
      " [[1 1 1 1 1]\n",
      "  [1 1 1 1 1]\n",
      "  [1 1 1 1 1]]]\n"
     ]
    }
   ],
   "source": [
    "# your code here\n",
    "c_1=np.transpose(b)\n",
    "print(c_1.shape)\n",
    "#print(c)\n",
    "\n",
    "c_2=np.matrix.transpose(b)\n",
    "print(c_2.shape)\n",
    "\n",
    "c=np.reshape(b, (2,3,5)) #o fred fez com o reshape\n",
    "print(c.shape)\n",
    "print(c)\n",
    "\n",
    "#don't get it???"
   ]
  },
  {
   "cell_type": "markdown",
   "metadata": {},
   "source": [
    "#### 10. Try to add *a* and *c*. Now it should work. Assign the sum to variable *d*. But why does it work now?"
   ]
  },
  {
   "cell_type": "code",
   "execution_count": 12,
   "metadata": {},
   "outputs": [],
   "source": [
    "# your code/answer here\n",
    "d=a+c"
   ]
  },
  {
   "cell_type": "markdown",
   "metadata": {},
   "source": [
    "#### 11. Print *a* and *d*. Notice the difference and relation of the two array in terms of the values? Explain."
   ]
  },
  {
   "cell_type": "code",
   "execution_count": 13,
   "metadata": {},
   "outputs": [
    {
     "name": "stdout",
     "output_type": "stream",
     "text": [
      "(2, 3, 5) \n",
      " [[[0.80678089 0.09220707 0.18819284 0.46779093 0.70287639]\n",
      "  [0.93967745 0.35702858 0.36223304 0.67969605 0.37456895]\n",
      "  [0.95679172 0.38430446 0.35434784 0.96744837 0.88117117]]\n",
      "\n",
      " [[0.90656561 0.80539828 0.93508508 0.71852918 0.16634225]\n",
      "  [0.96647788 0.87880759 0.72347082 0.83495002 0.80545848]\n",
      "  [0.77898709 0.5473424  0.06333658 0.93121675 0.79132045]]] \n",
      "\n",
      "(2, 3, 5) \n",
      " [[[1.80678089 1.09220707 1.18819284 1.46779093 1.70287639]\n",
      "  [1.93967745 1.35702858 1.36223304 1.67969605 1.37456895]\n",
      "  [1.95679172 1.38430446 1.35434784 1.96744837 1.88117117]]\n",
      "\n",
      " [[1.90656561 1.80539828 1.93508508 1.71852918 1.16634225]\n",
      "  [1.96647788 1.87880759 1.72347082 1.83495002 1.80545848]\n",
      "  [1.77898709 1.5473424  1.06333658 1.93121675 1.79132045]]]\n"
     ]
    }
   ],
   "source": [
    "# your code/answer here\n",
    "print(a.shape, \"\\n\", a, \"\\n\")\n",
    "print(d.shape, \"\\n\", d)\n",
    "\n",
    "#array d is +1"
   ]
  },
  {
   "cell_type": "markdown",
   "metadata": {},
   "source": [
    "#### 12. Multiply *a* and *c*. Assign the result to *e*."
   ]
  },
  {
   "cell_type": "code",
   "execution_count": 14,
   "metadata": {},
   "outputs": [
    {
     "name": "stdout",
     "output_type": "stream",
     "text": [
      "[[[0.80678089 0.09220707 0.18819284 0.46779093 0.70287639]\n",
      "  [0.93967745 0.35702858 0.36223304 0.67969605 0.37456895]\n",
      "  [0.95679172 0.38430446 0.35434784 0.96744837 0.88117117]]\n",
      "\n",
      " [[0.90656561 0.80539828 0.93508508 0.71852918 0.16634225]\n",
      "  [0.96647788 0.87880759 0.72347082 0.83495002 0.80545848]\n",
      "  [0.77898709 0.5473424  0.06333658 0.93121675 0.79132045]]]\n"
     ]
    }
   ],
   "source": [
    "# your code here\n",
    "#e=np.matmul(a,c)\n",
    "#e=np.dot(a,c) \n",
    "e=a*c #How if the two matrix have the same size? \n",
    "print(e)"
   ]
  },
  {
   "cell_type": "markdown",
   "metadata": {},
   "source": [
    "#### 13. Does *e* equal to *a*? Why or why not?\n"
   ]
  },
  {
   "cell_type": "code",
   "execution_count": 16,
   "metadata": {},
   "outputs": [
    {
     "name": "stdout",
     "output_type": "stream",
     "text": [
      "[[[0.80678089 0.09220707 0.18819284 0.46779093 0.70287639]\n",
      "  [0.93967745 0.35702858 0.36223304 0.67969605 0.37456895]\n",
      "  [0.95679172 0.38430446 0.35434784 0.96744837 0.88117117]]\n",
      "\n",
      " [[0.90656561 0.80539828 0.93508508 0.71852918 0.16634225]\n",
      "  [0.96647788 0.87880759 0.72347082 0.83495002 0.80545848]\n",
      "  [0.77898709 0.5473424  0.06333658 0.93121675 0.79132045]]]\n",
      "[[[0.80678089 0.09220707 0.18819284 0.46779093 0.70287639]\n",
      "  [0.93967745 0.35702858 0.36223304 0.67969605 0.37456895]\n",
      "  [0.95679172 0.38430446 0.35434784 0.96744837 0.88117117]]\n",
      "\n",
      " [[0.90656561 0.80539828 0.93508508 0.71852918 0.16634225]\n",
      "  [0.96647788 0.87880759 0.72347082 0.83495002 0.80545848]\n",
      "  [0.77898709 0.5473424  0.06333658 0.93121675 0.79132045]]]\n"
     ]
    }
   ],
   "source": [
    "# your code/answer here\n",
    "print(a)\n",
    "print(e)\n",
    "\n",
    "#equal due to c beeing just one's "
   ]
  },
  {
   "cell_type": "markdown",
   "metadata": {},
   "source": [
    "#### 14. Identify the max, min, and mean values in *d*. Assign those values to variables *d_max*, *d_min* and *d_mean*."
   ]
  },
  {
   "cell_type": "code",
   "execution_count": 19,
   "metadata": {},
   "outputs": [
    {
     "name": "stdout",
     "output_type": "stream",
     "text": [
      "1.9674483726406324 1.063336576526797 1.6456134735884114\n"
     ]
    }
   ],
   "source": [
    "# your code here\n",
    "d_max=d.max()\n",
    "d_min=d.min()\n",
    "d_mean=d.mean()\n",
    "print(d_max, d_min, d_mean)"
   ]
  },
  {
   "cell_type": "markdown",
   "metadata": {},
   "source": [
    "#### 15. Now we want to label the values in *d*. First create an empty array *f* with the same shape (i.e. 2x3x5) as *d* using `np.empty`.\n"
   ]
  },
  {
   "cell_type": "code",
   "execution_count": 20,
   "metadata": {},
   "outputs": [
    {
     "data": {
      "text/plain": [
       "array([[[0.80678089, 0.09220707, 0.18819284, 0.46779093, 0.70287639],\n",
       "        [0.93967745, 0.35702858, 0.36223304, 0.67969605, 0.37456895],\n",
       "        [0.95679172, 0.38430446, 0.35434784, 0.96744837, 0.88117117]],\n",
       "\n",
       "       [[0.90656561, 0.80539828, 0.93508508, 0.71852918, 0.16634225],\n",
       "        [0.96647788, 0.87880759, 0.72347082, 0.83495002, 0.80545848],\n",
       "        [0.77898709, 0.5473424 , 0.06333658, 0.93121675, 0.79132045]]])"
      ]
     },
     "execution_count": 20,
     "metadata": {},
     "output_type": "execute_result"
    }
   ],
   "source": [
    "# your code here\n",
    "f=np.empty([2,3,5])\n",
    "f"
   ]
  },
  {
   "cell_type": "markdown",
   "metadata": {},
   "source": [
    "#### 16. Populate the values in *f*. \n",
    "\n",
    "For each value in *d*, if it's larger than *d_min* but smaller than *d_mean*, assign 25 to the corresponding value in *f*. If a value in *d* is larger than *d_mean* but smaller than *d_max*, assign 75 to the corresponding value in *f*. If a value equals to *d_mean*, assign 50 to the corresponding value in *f*. Assign 0 to the corresponding value(s) in *f* for *d_min* in *d*. Assign 100 to the corresponding value(s) in *f* for *d_max* in *d*. In the end, f should have only the following values: 0, 25, 50, 75, and 100.\n",
    "\n",
    "**Note**: you don't have to use Numpy in this question."
   ]
  },
  {
   "cell_type": "code",
   "execution_count": 32,
   "metadata": {},
   "outputs": [
    {
     "name": "stdout",
     "output_type": "stream",
     "text": [
      "0\n",
      "[[1.80678089 1.09220707 1.18819284 1.46779093 1.70287639]\n",
      " [1.93967745 1.35702858 1.36223304 1.67969605 1.37456895]\n",
      " [1.95679172 1.38430446 1.35434784 1.96744837 1.88117117]]\n",
      "1\n",
      "[[1.90656561 1.80539828 1.93508508 1.71852918 1.16634225]\n",
      " [1.96647788 1.87880759 1.72347082 1.83495002 1.80545848]\n",
      " [1.77898709 1.5473424  1.06333658 1.93121675 1.79132045]]\n"
     ]
    }
   ],
   "source": [
    "x=-1\n",
    "for matrix in d:\n",
    "    x=x+1\n",
    "    print(x)\n",
    "    print(d[x])\n",
    "    "
   ]
  },
  {
   "cell_type": "code",
   "execution_count": 42,
   "metadata": {},
   "outputs": [],
   "source": [
    "# your code here\n",
    "x=-1\n",
    "y=-1\n",
    "z=-1\n",
    "\n",
    "for matrix in d:\n",
    "    x=x+1\n",
    "    y=-1\n",
    "    for m in matrix:\n",
    "        y=y+1\n",
    "        z=-1\n",
    "        for l in m:\n",
    "            z=z+1\n",
    "            if l>d_min and l<d_mean:\n",
    "                f[x,y,z]=25\n",
    "            elif l>d_mean and l<d_max:\n",
    "                f[x,y,z]=75\n",
    "            elif l==d_mean:\n",
    "                f[x,y,z]=50\n",
    "            elif l==d_min:\n",
    "                f[x,y,z]=0\n",
    "            elif l==d_max:\n",
    "                f[x,y,z]=100"
   ]
  },
  {
   "cell_type": "markdown",
   "metadata": {},
   "source": [
    "#### 17. Print *d* and *f*. Do you have your expected *f*?\n",
    "For instance, if your *d* is:\n",
    "```python\n",
    "[[[1.85836099, 1.67064465, 1.62576044, 1.40243961, 1.88454931],\n",
    "[1.75354326, 1.69403643, 1.36729252, 1.61415071, 1.12104981],\n",
    "[1.72201435, 1.1862918 , 1.87078449, 1.7726778 , 1.88180042]],\n",
    "[[1.44747908, 1.31673383, 1.02000951, 1.52218947, 1.97066381],\n",
    "[1.79129243, 1.74983003, 1.96028037, 1.85166831, 1.65450881],\n",
    "[1.18068344, 1.9587381 , 1.00656599, 1.93402165, 1.73514584]]]\n",
    "```\n",
    "Your *f* should be:\n",
    "```python\n",
    "[[[ 75.,  75.,  75.,  25.,  75.],\n",
    "[ 75.,  75.,  25.,  25.,  25.],\n",
    "[ 75.,  25.,  75.,  75.,  75.]],\n",
    "[[ 25.,  25.,  25.,  25., 100.],\n",
    "[ 75.,  75.,  75.,  75.,  75.],\n",
    "[ 25.,  75.,   0.,  75.,  75.]]]\n",
    "```"
   ]
  },
  {
   "cell_type": "code",
   "execution_count": 44,
   "metadata": {},
   "outputs": [
    {
     "name": "stdout",
     "output_type": "stream",
     "text": [
      "[[[1.80678089 1.09220707 1.18819284 1.46779093 1.70287639]\n",
      "  [1.93967745 1.35702858 1.36223304 1.67969605 1.37456895]\n",
      "  [1.95679172 1.38430446 1.35434784 1.96744837 1.88117117]]\n",
      "\n",
      " [[1.90656561 1.80539828 1.93508508 1.71852918 1.16634225]\n",
      "  [1.96647788 1.87880759 1.72347082 1.83495002 1.80545848]\n",
      "  [1.77898709 1.5473424  1.06333658 1.93121675 1.79132045]]]\n",
      "\n",
      " d_min: 1.063336576526797  d_mean: 1.6456134735884114  d_max: 1.9674483726406324 \n",
      "\n",
      "[[[ 75.  25.  25.  25.  75.]\n",
      "  [ 75.  25.  25.  75.  25.]\n",
      "  [ 75.  25.  25. 100.  75.]]\n",
      "\n",
      " [[ 75.  75.  75.  75.  25.]\n",
      "  [ 75.  75.  75.  75.  75.]\n",
      "  [ 75.  25.   0.  75.  75.]]]\n"
     ]
    }
   ],
   "source": [
    "# your code here\n",
    "print(d)\n",
    "print(\"\\n\", \"d_min:\",d_min,\" d_mean:\",d_mean,\" d_max:\",d_max, \"\\n\")\n",
    "print(f)"
   ]
  },
  {
   "cell_type": "markdown",
   "metadata": {},
   "source": [
    "#### 18. Bonus question: instead of using numbers (i.e. 0, 25, 50, 75, and 100), use string values  (\"A\", \"B\", \"C\", \"D\", and \"E\") to label the array elements. For the example above, the expected result is:\n",
    "\n",
    "```python\n",
    "[[[ 'D',  'D',  'D',  'B',  'D'],\n",
    "[ 'D',  'D',  'B',  'B',  'B'],\n",
    "[ 'D',  'B',  'D',  'D',  'D']],\n",
    "[[ 'B',  'B',  'B',  'B',  'E'],\n",
    "[ 'D',  'D',  'D',  'D',  'D'],\n",
    "[ 'B',  'D',   'A',  'D', 'D']]]\n",
    "```\n",
    "**Note**: you don't have to use Numpy in this question."
   ]
  },
  {
   "cell_type": "code",
   "execution_count": 47,
   "metadata": {},
   "outputs": [
    {
     "ename": "ValueError",
     "evalue": "could not convert string to float: 'D'",
     "output_type": "error",
     "traceback": [
      "\u001b[1;31m---------------------------------------------------------------------------\u001b[0m",
      "\u001b[1;31mValueError\u001b[0m                                Traceback (most recent call last)",
      "Input \u001b[1;32mIn [47]\u001b[0m, in \u001b[0;36m<cell line: 6>\u001b[1;34m()\u001b[0m\n\u001b[0;32m     15\u001b[0m     f_bonus[x,y,z]\u001b[38;5;241m=\u001b[39m\u001b[38;5;124m\"\u001b[39m\u001b[38;5;124mB\u001b[39m\u001b[38;5;124m\"\u001b[39m\n\u001b[0;32m     16\u001b[0m \u001b[38;5;28;01melif\u001b[39;00m l\u001b[38;5;241m>\u001b[39md_mean \u001b[38;5;129;01mand\u001b[39;00m l\u001b[38;5;241m<\u001b[39md_max:\n\u001b[1;32m---> 17\u001b[0m     f_bonus[x,y,z]\u001b[38;5;241m=\u001b[39m\u001b[38;5;124m\"\u001b[39m\u001b[38;5;124mD\u001b[39m\u001b[38;5;124m\"\u001b[39m\n\u001b[0;32m     18\u001b[0m \u001b[38;5;28;01melif\u001b[39;00m l\u001b[38;5;241m==\u001b[39md_mean:\n\u001b[0;32m     19\u001b[0m     f_bonus[x,y,z]\u001b[38;5;241m=\u001b[39m\u001b[38;5;124m\"\u001b[39m\u001b[38;5;124mC\u001b[39m\u001b[38;5;124m\"\u001b[39m\n",
      "\u001b[1;31mValueError\u001b[0m: could not convert string to float: 'D'"
     ]
    }
   ],
   "source": [
    "# your code here\n",
    "x=-1\n",
    "y=-1\n",
    "z=-1\n",
    "f_bonus=np.zeros([2,3,5])\n",
    "\n",
    "for matrix in d:\n",
    "    x=x+1\n",
    "    y=-1\n",
    "    for m in matrix:\n",
    "        y=y+1\n",
    "        z=-1\n",
    "        for l in m:\n",
    "            z=z+1\n",
    "            if l>d_min and l<d_mean:\n",
    "                f_bonus[x,y,z]=\"B\"\n",
    "            elif l>d_mean and l<d_max:\n",
    "                f_bonus[x,y,z]=\"D\"\n",
    "            elif l==d_mean:\n",
    "                f_bonus[x,y,z]=\"C\"\n",
    "            elif l==d_min:\n",
    "                f_bonus[x,y,z]=\"A\"\n",
    "            elif l==d_max:\n",
    "                f_bonus[x,y,z]=\"E\"\n",
    "                \n",
    "prinf(f_bonus)"
   ]
  },
  {
   "cell_type": "code",
   "execution_count": null,
   "metadata": {},
   "outputs": [],
   "source": []
  }
 ],
 "metadata": {
  "kernelspec": {
   "display_name": "Python 3 (ipykernel)",
   "language": "python",
   "name": "python3"
  },
  "language_info": {
   "codemirror_mode": {
    "name": "ipython",
    "version": 3
   },
   "file_extension": ".py",
   "mimetype": "text/x-python",
   "name": "python",
   "nbconvert_exporter": "python",
   "pygments_lexer": "ipython3",
   "version": "3.9.12"
  }
 },
 "nbformat": 4,
 "nbformat_minor": 2
}
